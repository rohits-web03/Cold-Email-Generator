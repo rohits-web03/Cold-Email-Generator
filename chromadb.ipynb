{
 "cells": [
  {
   "cell_type": "code",
   "execution_count": 1,
   "id": "d5349f75",
   "metadata": {},
   "outputs": [
    {
     "name": "stderr",
     "output_type": "stream",
     "text": [
      "/home/rkd/.cache/chroma/onnx_models/all-MiniLM-L6-v2/onnx.tar.gz: 100%|█| 79.3M/\n"
     ]
    },
    {
     "name": "stdout",
     "output_type": "stream",
     "text": [
      "{'ids': [['id2', 'id1']], 'embeddings': None, 'documents': [['This is a document about oranges', 'This is a document about pineapple']], 'uris': None, 'data': None, 'metadatas': [[None, None]], 'distances': [[1.1462137699127197, 1.3015384674072266]], 'included': [<IncludeEnum.distances: 'distances'>, <IncludeEnum.documents: 'documents'>, <IncludeEnum.metadatas: 'metadatas'>]}\n"
     ]
    }
   ],
   "source": [
    "import chromadb\n",
    "chroma_client = chromadb.Client()\n",
    "\n",
    "# switch `create_collection` to `get_or_create_collection` to avoid creating a new collection every time\n",
    "collection = chroma_client.get_or_create_collection(name=\"my_collection\")\n",
    "\n",
    "# switch `add` to `upsert` to avoid adding the same documents every time\n",
    "collection.upsert(\n",
    "    documents=[\n",
    "        \"This is a document about pineapple\",\n",
    "        \"This is a document about oranges\"\n",
    "    ],\n",
    "    ids=[\"id1\", \"id2\"]\n",
    ")\n",
    "\n",
    "results = collection.query(\n",
    "    query_texts=[\"This is a query document about florida\"],\n",
    "    n_results=2 \n",
    ")\n",
    "\n",
    "print(results)\n"
   ]
  },
  {
   "cell_type": "code",
   "execution_count": 4,
   "id": "93a36df5",
   "metadata": {},
   "outputs": [
    {
     "name": "stdout",
     "output_type": "stream",
     "text": [
      "{'ids': [['id2', 'id1'], ['id1', 'id2'], ['id1', 'id2']], 'embeddings': None, 'documents': [['This is a document about oranges', 'This is a document about pineapple'], ['This is a document about pineapple', 'This is a document about oranges'], ['This is a document about pineapple', 'This is a document about oranges']], 'uris': None, 'data': None, 'metadatas': [[None, None], [None, None], [None, None]], 'distances': [[0.4980688989162445, 0.9538605809211731], [1.3079264163970947, 1.3259299993515015], [1.282442569732666, 1.5195696353912354]], 'included': [<IncludeEnum.distances: 'distances'>, <IncludeEnum.documents: 'documents'>, <IncludeEnum.metadatas: 'metadatas'>]}\n"
     ]
    }
   ],
   "source": [
    "results1 = collection.query(\n",
    "    query_texts=[\"This is a query document about orange juice\",\"This is a query document about new york\",\"This is a query document about India\"],\n",
    "    n_results=2\n",
    ")\n",
    "print(results1)"
   ]
  },
  {
   "cell_type": "code",
   "execution_count": 26,
   "id": "67742623",
   "metadata": {},
   "outputs": [],
   "source": [
    "docs = collection.get()['ids']\n",
    "collection.delete(docs)"
   ]
  },
  {
   "cell_type": "code",
   "execution_count": 27,
   "id": "1c7db2e0",
   "metadata": {},
   "outputs": [],
   "source": [
    "collection.upsert(\n",
    "    documents=[\n",
    "        \"This is a document about New York\",\n",
    "        \"This is a document about New Delhi\"\n",
    "    ],\n",
    "    ids=[\"id1\", \"id2\"],\n",
    "    metadatas=[{\"url\":\"https://en.wikipedia.org/wiki/New_Delhi\"},{\"url\":\"https://en.wikipedia.org/wiki/New_York_(state)\"}]\n",
    ")"
   ]
  },
  {
   "cell_type": "code",
   "execution_count": 35,
   "id": "eee74fa9",
   "metadata": {},
   "outputs": [],
   "source": [
    "collection.upsert(\n",
    "    documents=[\"This is a document about Kolkata\"],\n",
    "    ids=[\"id3\"],\n",
    "    metadatas=[{\"url\":\"https://en.wikipedia.org/wiki/Kolkata\"}]\n",
    ")"
   ]
  },
  {
   "cell_type": "code",
   "execution_count": 41,
   "id": "8947fae0",
   "metadata": {},
   "outputs": [
    {
     "data": {
      "text/plain": [
       "{'ids': [['id3', 'id2', 'id1']],\n",
       " 'embeddings': None,\n",
       " 'documents': [['This is a document about Kolkata',\n",
       "   'This is a document about New Delhi',\n",
       "   'This is a document about New York']],\n",
       " 'uris': None,\n",
       " 'data': None,\n",
       " 'metadatas': [[{'url': 'https://en.wikipedia.org/wiki/Kolkata'},\n",
       "   {'url': 'https://en.wikipedia.org/wiki/New_York_(state)'},\n",
       "   {'url': 'https://en.wikipedia.org/wiki/New_Delhi'}]],\n",
       " 'distances': [[1.5660958290100098, 1.7331920862197876, 2.0232975482940674]],\n",
       " 'included': [<IncludeEnum.distances: 'distances'>,\n",
       "  <IncludeEnum.documents: 'documents'>,\n",
       "  <IncludeEnum.metadatas: 'metadatas'>]}"
      ]
     },
     "execution_count": 41,
     "metadata": {},
     "output_type": "execute_result"
    }
   ],
   "source": [
    "collection.query(query_texts=[\"Chole Bhature\"],n_results=3)"
   ]
  },
  {
   "cell_type": "code",
   "execution_count": null,
   "id": "3938c0a3",
   "metadata": {},
   "outputs": [],
   "source": []
  }
 ],
 "metadata": {
  "kernelspec": {
   "display_name": "Python (myenv)",
   "language": "python",
   "name": "myenv"
  },
  "language_info": {
   "codemirror_mode": {
    "name": "ipython",
    "version": 3
   },
   "file_extension": ".py",
   "mimetype": "text/x-python",
   "name": "python",
   "nbconvert_exporter": "python",
   "pygments_lexer": "ipython3",
   "version": "3.12.3"
  }
 },
 "nbformat": 4,
 "nbformat_minor": 5
}
