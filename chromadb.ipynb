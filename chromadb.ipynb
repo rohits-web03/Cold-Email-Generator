{
 "cells": [
  {
   "cell_type": "code",
   "execution_count": null,
   "id": "d5349f75",
   "metadata": {},
   "outputs": [],
   "source": [
    "import chromadb\n",
    "chroma_client = chromadb.Client()\n",
    "\n",
    "# switch `create_collection` to `get_or_create_collection` to avoid creating a new collection every time\n",
    "collection = chroma_client.get_or_create_collection(name=\"my_collection\")\n",
    "\n",
    "# switch `add` to `upsert` to avoid adding the same documents every time\n",
    "collection.upsert(\n",
    "    documents=[\n",
    "        \"This is a document about pineapple\",\n",
    "        \"This is a document about oranges\"\n",
    "    ],\n",
    "    ids=[\"id1\", \"id2\"]\n",
    ")\n",
    "\n",
    "results = collection.query(\n",
    "    query_texts=[\"This is a query document about florida\"],\n",
    "    n_results=2 \n",
    ")\n",
    "\n",
    "print(results)\n"
   ]
  },
  {
   "cell_type": "code",
   "execution_count": null,
   "id": "93a36df5",
   "metadata": {},
   "outputs": [],
   "source": [
    "results1 = collection.query(\n",
    "    query_texts=[\"This is a query document about orange juice\",\"This is a query document about new york\",\"This is a query document about India\"],\n",
    "    n_results=2\n",
    ")\n",
    "print(results1)"
   ]
  },
  {
   "cell_type": "code",
   "execution_count": null,
   "id": "67742623",
   "metadata": {},
   "outputs": [],
   "source": [
    "docs = collection.get()['ids']\n",
    "collection.delete(docs)"
   ]
  },
  {
   "cell_type": "code",
   "execution_count": null,
   "id": "1c7db2e0",
   "metadata": {},
   "outputs": [],
   "source": [
    "collection.upsert(\n",
    "    documents=[\n",
    "        \"This is a document about New York\",\n",
    "        \"This is a document about New Delhi\"\n",
    "    ],\n",
    "    ids=[\"id1\", \"id2\"],\n",
    "    metadatas=[{\"url\":\"https://en.wikipedia.org/wiki/New_Delhi\"},{\"url\":\"https://en.wikipedia.org/wiki/New_York_(state)\"}]\n",
    ")"
   ]
  },
  {
   "cell_type": "code",
   "execution_count": null,
   "id": "eee74fa9",
   "metadata": {},
   "outputs": [],
   "source": [
    "collection.upsert(\n",
    "    documents=[\"This is a document about Kolkata\"],\n",
    "    ids=[\"id3\"],\n",
    "    metadatas=[{\"url\":\"https://en.wikipedia.org/wiki/Kolkata\"}]\n",
    ")"
   ]
  },
  {
   "cell_type": "code",
   "execution_count": null,
   "id": "8947fae0",
   "metadata": {},
   "outputs": [],
   "source": [
    "collection.query(query_texts=[\"Chole Bhature\"],n_results=3)"
   ]
  }
 ],
 "metadata": {
  "kernelspec": {
   "display_name": "Python (myenv)",
   "language": "python",
   "name": "myenv"
  },
  "language_info": {
   "codemirror_mode": {
    "name": "ipython",
    "version": 3
   },
   "file_extension": ".py",
   "mimetype": "text/x-python",
   "name": "python",
   "nbconvert_exporter": "python",
   "pygments_lexer": "ipython3",
   "version": "3.12.3"
  }
 },
 "nbformat": 4,
 "nbformat_minor": 5
}
